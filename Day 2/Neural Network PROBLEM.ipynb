{
 "cells": [
  {
   "cell_type": "markdown",
   "metadata": {},
   "source": [
    "# K-means on a wines dataset PROBLEM\n",
    "We will neeed a few libraries for building this neural network:\n",
    "* Numpy and Pandas for data handling\n",
    "* Matplotlib for visualisation\n",
    "* Keras for the DL functionality:\n",
    "    * models for the sequential (standard) DL frame\n",
    "    * layers for the standard dense layers\n",
    "    * datasets for the boston dataset"
   ]
  },
  {
   "cell_type": "code",
   "execution_count": 145,
   "metadata": {},
   "outputs": [],
   "source": [
    "import pandas as pd\n",
    "import numpy as np\n",
    "from keras import models, layers, datasets\n",
    "import matplotlib.pyplot as plt\n",
    "%matplotlib notebook"
   ]
  },
  {
   "cell_type": "markdown",
   "metadata": {},
   "source": [
    "## Data Prep\n",
    "Let's pull down our data and get it ready. The data doesn't come with its column headers, but they are:\n",
    "* CRIM: This is the per capita crime rate by town\n",
    "* ZN: This is the proportion of residential land zoned for lots larger than 25,000 sq.ft.\n",
    "* INDUS: This is the proportion of non-retail business acres per town.\n",
    "* CHAS: This is the Charles River dummy variable (this is equal to 1 if tract bounds river; 0 otherwise)\n",
    "* NOX: This is the nitric oxides concentration (parts per 10 million)\n",
    "* RM: This is the average number of rooms per dwelling\n",
    "* AGE: This is the proportion of owner-occupied units built prior to 1940\n",
    "* DIS: This is the weighted distances to five Boston employment centers\n",
    "* RAD: This is the index of accessibility to radial highways\n",
    "* TAX: This is the full-value property-tax rate per \\$10,000\n",
    "* PTRATIO: This is the pupil-teacher ratio by town\n",
    "* B : This is calculated as 1000(Bk — 0.63)², where Bk is the proportion of people of African American descent by town\n",
    "* LSTAT: This is the percentage lower status of the population\n",
    "* MEDV: This is the median value of owner-occupied homes in \\$1000s\n",
    "\n",
    "MEDV is the y value for this analysis.\n",
    "\n",
    "As the magnitudes and ranges of each column are quite different, we need to regularise them. We can do this with either a standardisation or a normalisation.\n",
    "\n",
    "A standardisation ($z$) pulls every data series into a comparable range dependent on its $\\sigma$ - standard deviation.\n",
    "\n",
    "A normalisation ($x$) pulls every data series into a range of between 0 and 1.\n",
    "\n",
    "The equations are as follows:\n",
    "\n",
    "$$ z = \\frac{x_i-\\bar{x}}{\\sigma}$$\n",
    "\n",
    "$$ x = \\frac{x_i - x_{min}}{x_{max}-x_{min}} $$\n",
    "\n",
    "### Prepare the data and regularise it before ingestion"
   ]
  },
  {
   "cell_type": "code",
   "execution_count": 52,
   "metadata": {},
   "outputs": [],
   "source": [
    "(X_train, y_train), (X_test, y_test) = datasets.boston_housing.load_data()"
   ]
  },
  {
   "cell_type": "markdown",
   "metadata": {},
   "source": [
    "## Model\n",
    "\n",
    "We need to create several components to create our full model. Inside a function, crate the following:\n",
    "\n",
    "1. An empty sequential model instance\n",
    "2. input, and hidden Dense ReLU layers.\n",
    "3. A single output Dense layer.\n",
    "4. A compliation instruction. We should use mean squared error as our loss and we'll use adam as our optimiser. measure MAE for an additional metric\n",
    "5. return a model\n",
    "\n",
    "We then need to train the model. Experiment to see the right number of epochs, but stick to a batch size of 10 for now.\n",
    "\n",
    "Finally, visualise your data against epochs - you can find it in the `history.history` object\n",
    "#### Hints\n",
    "```python\n",
    "model = models.Sequential()\n",
    "model.add(layers.Dense(DIMS, activation=\"?\")\n",
    "model.compile(loss=\"?\", optimiser=\"adam\", metrics=[\"?\"])\n",
    "history = your_model.fit(X, Y, validation_data=(X, Y), epochs=X, batch_size=X)\n",
    "```"
   ]
  },
  {
   "cell_type": "code",
   "execution_count": 140,
   "metadata": {},
   "outputs": [],
   "source": [
    "def make_model():\n",
    "\n",
    "    ...\n",
    "    \n",
    "    return model"
   ]
  }
 ],
 "metadata": {
  "kernelspec": {
   "display_name": "Python 3",
   "language": "python",
   "name": "python3"
  },
  "language_info": {
   "codemirror_mode": {
    "name": "ipython",
    "version": 3
   },
   "file_extension": ".py",
   "mimetype": "text/x-python",
   "name": "python",
   "nbconvert_exporter": "python",
   "pygments_lexer": "ipython3",
   "version": "3.6.10"
  }
 },
 "nbformat": 4,
 "nbformat_minor": 4
}
